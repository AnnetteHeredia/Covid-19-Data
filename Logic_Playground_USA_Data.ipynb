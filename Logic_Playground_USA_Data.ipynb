{
 "cells": [
  {
   "cell_type": "code",
   "execution_count": 1,
   "id": "d1205377",
   "metadata": {},
   "outputs": [],
   "source": [
    "import sqlalchemy\n",
    "from sqlalchemy.ext.automap import automap_base\n",
    "from sqlalchemy.orm import Session\n",
    "from sqlalchemy import create_engine, inspect, func"
   ]
  },
  {
   "cell_type": "code",
   "execution_count": 2,
   "id": "5d8ebbd6",
   "metadata": {},
   "outputs": [],
   "source": [
    "# Create engine using the `demographics.sqlite` database file\n",
    "engine = create_engine(\"sqlite:///./Data/COVID_Data.db\")"
   ]
  },
  {
   "cell_type": "code",
   "execution_count": 3,
   "id": "4666d0fe",
   "metadata": {},
   "outputs": [
    {
     "data": {
      "text/plain": [
       "['usa_data', 'world_data']"
      ]
     },
     "execution_count": 3,
     "metadata": {},
     "output_type": "execute_result"
    }
   ],
   "source": [
    "#Verify that the database is connected and get table names for reference\n",
    "inspector = inspect(engine)\n",
    "inspector.get_table_names()"
   ]
  },
  {
   "cell_type": "code",
   "execution_count": 4,
   "id": "564bbb82",
   "metadata": {},
   "outputs": [
    {
     "name": "stdout",
     "output_type": "stream",
     "text": [
      "submission_date DATE\n",
      "state TEXT\n",
      "tot_cases INTEGER\n",
      "conf_cases INTEGER\n",
      "prob_cases INTEGER\n",
      "new_case INTEGER\n",
      "pnew_case INTEGER\n",
      "tot_death INTEGER\n",
      "conf_death INTEGER\n",
      "prob_death INTEGER\n",
      "new_death INTEGER\n",
      "pnew_death INTEGER\n",
      "created_at DATETIME\n",
      "consent_cases TEXT\n",
      "consent_deaths TEXT\n"
     ]
    },
    {
     "data": {
      "text/plain": [
       "['submission_date',\n",
       " 'state',\n",
       " 'tot_cases',\n",
       " 'conf_cases',\n",
       " 'prob_cases',\n",
       " 'new_case',\n",
       " 'pnew_case',\n",
       " 'tot_death',\n",
       " 'conf_death',\n",
       " 'prob_death',\n",
       " 'new_death',\n",
       " 'pnew_death',\n",
       " 'created_at',\n",
       " 'consent_cases',\n",
       " 'consent_deaths']"
      ]
     },
     "execution_count": 4,
     "metadata": {},
     "output_type": "execute_result"
    }
   ],
   "source": [
    "#Verify column names for queries and future use\n",
    "columns = inspector.get_columns('usa_data')\n",
    "column_names = []\n",
    "for c in columns:\n",
    "    column_names.append(c['name'])\n",
    "    print(c['name'], c[\"type\"])\n",
    "column_names"
   ]
  },
  {
   "cell_type": "code",
   "execution_count": 5,
   "id": "8ed5ef7d",
   "metadata": {},
   "outputs": [
    {
     "name": "stdout",
     "output_type": "stream",
     "text": [
      "Start Date MM/DD/YYYY: 12/21/2020\n",
      "End Date MM/DD/YYYY: 12/25/2020\n",
      "State ID: TX\n"
     ]
    }
   ],
   "source": [
    "#get the parameters to run test (not used in final product)\n",
    "states = [\"AL\",\"AK\",\"AR\", \"AS\",\"CA\",\"CO\",\"CT\",\"DE\",\"FL\",\"GA\",\"HI\",\"ID\",\"IL\",\"IN\",\"IA\",\"KS\",\"KY\",\"LA\",\"ME\",\"MD\",\"MA\",\"MI\",\"MN\",\"MS\",\"MO\",\"MT\",\"NE\",\"NV\",\"NH\",\"NJ\",\"NM\",\"NY\",\"NC\",\"ND\",\"OH\",\"OK\",\"OR\",\"PA\",\"RI\",\"SC\",\"SD\",\"TN\",\"TX\",\"UT\",\"VT\",\"VA\",\"WA\",\"WV\",\"WI\",\"WY\"]\n",
    "date_start = input(\"Start Date MM/DD/YYYY: \")\n",
    "date_end = input(\"End Date MM/DD/YYYY: \")\n",
    "state_select = input(\"State ID: \")"
   ]
  },
  {
   "cell_type": "code",
   "execution_count": 10,
   "id": "6ce820fc",
   "metadata": {},
   "outputs": [],
   "source": [
    "#create placeholders for data\n",
    "state_cases = []\n",
    "state_new = []\n",
    "state_tot_deaths = []\n",
    "state_new_death = []"
   ]
  },
  {
   "cell_type": "code",
   "execution_count": 11,
   "id": "371f378b",
   "metadata": {},
   "outputs": [
    {
     "data": {
      "text/plain": [
       "[1657857,\n",
       " 1613095,\n",
       " 4457359,\n",
       " 1636458,\n",
       " 1653522,\n",
       " 4471130,\n",
       " 4444883,\n",
       " 1591948,\n",
       " 4434762]"
      ]
     },
     "execution_count": 11,
     "metadata": {},
     "output_type": "execute_result"
    }
   ],
   "source": [
    "#run queries for data\n",
    "#total cases by day\n",
    "state_cases_query = engine.execute(f\"SELECT tot_cases FROM usa_data WHERE state = '{state_select}' AND submission_date BETWEEN '{date_start}' AND '{date_end}'\").fetchall()\n",
    "for state in state_cases_query:\n",
    "    state_cases.append(state[0])\n",
    "state_cases"
   ]
  },
  {
   "cell_type": "code",
   "execution_count": null,
   "id": "fa3aff57",
   "metadata": {},
   "outputs": [],
   "source": []
  }
 ],
 "metadata": {
  "kernelspec": {
   "display_name": "Python 3 (ipykernel)",
   "language": "python",
   "name": "python3"
  },
  "language_info": {
   "codemirror_mode": {
    "name": "ipython",
    "version": 3
   },
   "file_extension": ".py",
   "mimetype": "text/x-python",
   "name": "python",
   "nbconvert_exporter": "python",
   "pygments_lexer": "ipython3",
   "version": "3.9.7"
  }
 },
 "nbformat": 4,
 "nbformat_minor": 5
}
