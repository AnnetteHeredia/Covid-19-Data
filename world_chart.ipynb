{
 "cells": [
  {
   "cell_type": "code",
   "execution_count": 2,
   "metadata": {},
   "outputs": [],
   "source": [
    "# Dependencies\n",
    "import pandas as pd\n",
    "import matplotlib.pyplot as plt\n",
    "import scipy.stats as st\n",
    "import numpy as np\n",
    "import sqlalchemy\n",
    "from sqlalchemy.ext.automap import automap_base\n",
    "from sqlalchemy.orm import Session\n",
    "from sqlalchemy import create_engine, inspect, func"
   ]
  },
  {
   "cell_type": "code",
   "execution_count": 54,
   "metadata": {},
   "outputs": [],
   "source": [
    "# Read in the covid world data\n",
    "worldData = pd.read_csv('Data/owid-covid-data.csv')\n",
    "\n",
    "# Path to sqlite\n",
    "database_path = \"Data/COVID_Data.db\"\n",
    "\n",
    "# Create an engine that can talk to the database\n",
    "engine = create_engine(f\"sqlite:///{database_path}\")\n"
   ]
  },
  {
   "cell_type": "code",
   "execution_count": null,
   "metadata": {},
   "outputs": [],
   "source": [
    "# Query All Records in the the Database\n",
    "data = engine.execute(\"SELECT * FROM icecreamstore\")\n",
    "\n",
    "for i in data:\n",
    "    print(i)"
   ]
  },
  {
   "cell_type": "code",
   "execution_count": 55,
   "metadata": {},
   "outputs": [],
   "source": [
    "#Remove scientific notation\n",
    "pd.options.display.float_format = '{:.2f}'.format"
   ]
  },
  {
   "cell_type": "code",
   "execution_count": 56,
   "metadata": {},
   "outputs": [
    {
     "data": {
      "text/html": [
       "<div>\n",
       "<style scoped>\n",
       "    .dataframe tbody tr th:only-of-type {\n",
       "        vertical-align: middle;\n",
       "    }\n",
       "\n",
       "    .dataframe tbody tr th {\n",
       "        vertical-align: top;\n",
       "    }\n",
       "\n",
       "    .dataframe thead th {\n",
       "        text-align: right;\n",
       "    }\n",
       "</style>\n",
       "<table border=\"1\" class=\"dataframe\">\n",
       "  <thead>\n",
       "    <tr style=\"text-align: right;\">\n",
       "      <th></th>\n",
       "      <th>total_cases</th>\n",
       "      <th>new_cases</th>\n",
       "      <th>total_deaths</th>\n",
       "      <th>new_deaths</th>\n",
       "    </tr>\n",
       "    <tr>\n",
       "      <th>location</th>\n",
       "      <th></th>\n",
       "      <th></th>\n",
       "      <th></th>\n",
       "      <th></th>\n",
       "    </tr>\n",
       "  </thead>\n",
       "  <tbody>\n",
       "    <tr>\n",
       "      <th>Afghanistan</th>\n",
       "      <td>58588493.00</td>\n",
       "      <td>174339.00</td>\n",
       "      <td>2552442.00</td>\n",
       "      <td>7622.00</td>\n",
       "    </tr>\n",
       "    <tr>\n",
       "      <th>Africa</th>\n",
       "      <td>3204841388.00</td>\n",
       "      <td>11254551.00</td>\n",
       "      <td>79384040.00</td>\n",
       "      <td>248969.00</td>\n",
       "    </tr>\n",
       "    <tr>\n",
       "      <th>Albania</th>\n",
       "      <td>70902248.00</td>\n",
       "      <td>272030.00</td>\n",
       "      <td>1174101.00</td>\n",
       "      <td>3478.00</td>\n",
       "    </tr>\n",
       "    <tr>\n",
       "      <th>Algeria</th>\n",
       "      <td>83540466.00</td>\n",
       "      <td>265227.00</td>\n",
       "      <td>2363443.00</td>\n",
       "      <td>6853.00</td>\n",
       "    </tr>\n",
       "    <tr>\n",
       "      <th>Andorra</th>\n",
       "      <td>7933979.00</td>\n",
       "      <td>38434.00</td>\n",
       "      <td>69474.00</td>\n",
       "      <td>151.00</td>\n",
       "    </tr>\n",
       "    <tr>\n",
       "      <th>...</th>\n",
       "      <td>...</td>\n",
       "      <td>...</td>\n",
       "      <td>...</td>\n",
       "      <td>...</td>\n",
       "    </tr>\n",
       "    <tr>\n",
       "      <th>Wallis and Futuna</th>\n",
       "      <td>160319.00</td>\n",
       "      <td>454.00</td>\n",
       "      <td>2338.00</td>\n",
       "      <td>7.00</td>\n",
       "    </tr>\n",
       "    <tr>\n",
       "      <th>World</th>\n",
       "      <td>98827745775.00</td>\n",
       "      <td>443975063.00</td>\n",
       "      <td>2006841133.00</td>\n",
       "      <td>5969463.00</td>\n",
       "    </tr>\n",
       "    <tr>\n",
       "      <th>Yemen</th>\n",
       "      <td>3492081.00</td>\n",
       "      <td>11776.00</td>\n",
       "      <td>720863.00</td>\n",
       "      <td>2135.00</td>\n",
       "    </tr>\n",
       "    <tr>\n",
       "      <th>Zambia</th>\n",
       "      <td>74258843.00</td>\n",
       "      <td>313744.00</td>\n",
       "      <td>1152273.00</td>\n",
       "      <td>3958.00</td>\n",
       "    </tr>\n",
       "    <tr>\n",
       "      <th>Zimbabwe</th>\n",
       "      <td>46061622.00</td>\n",
       "      <td>239025.00</td>\n",
       "      <td>1405534.00</td>\n",
       "      <td>5397.00</td>\n",
       "    </tr>\n",
       "  </tbody>\n",
       "</table>\n",
       "<p>238 rows × 4 columns</p>\n",
       "</div>"
      ],
      "text/plain": [
       "                     total_cases    new_cases  total_deaths  new_deaths\n",
       "location                                                               \n",
       "Afghanistan          58588493.00    174339.00    2552442.00     7622.00\n",
       "Africa             3204841388.00  11254551.00   79384040.00   248969.00\n",
       "Albania              70902248.00    272030.00    1174101.00     3478.00\n",
       "Algeria              83540466.00    265227.00    2363443.00     6853.00\n",
       "Andorra               7933979.00     38434.00      69474.00      151.00\n",
       "...                          ...          ...           ...         ...\n",
       "Wallis and Futuna      160319.00       454.00       2338.00        7.00\n",
       "World             98827745775.00 443975063.00 2006841133.00  5969463.00\n",
       "Yemen                 3492081.00     11776.00     720863.00     2135.00\n",
       "Zambia               74258843.00    313744.00    1152273.00     3958.00\n",
       "Zimbabwe             46061622.00    239025.00    1405534.00     5397.00\n",
       "\n",
       "[238 rows x 4 columns]"
      ]
     },
     "execution_count": 56,
     "metadata": {},
     "output_type": "execute_result"
    }
   ],
   "source": [
    "#Summing all columns by filter \n",
    "\n",
    "continent = worldData.groupby(['continent']).sum()\n",
    "location = worldData.groupby(['location']).sum()\n",
    "date = worldData.groupby(['date']).sum()\n",
    "\n",
    "\n",
    "#Further querying for relevent columns\n",
    "\n",
    "cStats = continent[['total_cases', 'new_cases' , 'total_deaths' , 'new_deaths']]\n",
    "cStats\n",
    "lStats = location[['total_cases', 'new_cases' , 'total_deaths' , 'new_deaths']]\n",
    "lStats\n",
    "dStats = date[['total_cases', 'new_cases' , 'total_deaths' , 'new_deaths']]\n",
    "lStats\n",
    "\n",
    "\n"
   ]
  },
  {
   "cell_type": "code",
   "execution_count": 57,
   "metadata": {},
   "outputs": [
    {
     "data": {
      "text/plain": [
       "total_cases    3204841388.00\n",
       "new_cases        11254551.00\n",
       "total_deaths     79384040.00\n",
       "new_deaths         248969.00\n",
       "Name: Africa, dtype: float64"
      ]
     },
     "execution_count": 57,
     "metadata": {},
     "output_type": "execute_result"
    }
   ],
   "source": [
    "\n",
    "\n",
    "# dataframe.column.nunique()\n",
    "\n",
    "ttp = cStats.iloc[0]\n",
    "\n",
    "\n",
    "\n",
    "ttp\n",
    "\n"
   ]
  }
 ],
 "metadata": {
  "kernelspec": {
   "display_name": "Python 3",
   "language": "python",
   "name": "python3"
  },
  "language_info": {
   "codemirror_mode": {
    "name": "ipython",
    "version": 3
   },
   "file_extension": ".py",
   "mimetype": "text/x-python",
   "name": "python",
   "nbconvert_exporter": "python",
   "pygments_lexer": "ipython3",
   "version": "3.6.10"
  }
 },
 "nbformat": 4,
 "nbformat_minor": 4
}
