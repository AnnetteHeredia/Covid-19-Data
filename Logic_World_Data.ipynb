{
 "cells": [
  {
   "cell_type": "code",
   "execution_count": 1,
   "metadata": {},
   "outputs": [],
   "source": [
    "import sqlalchemy\n",
    "from sqlalchemy.ext.automap import automap_base\n",
    "from sqlalchemy.orm import Session\n",
    "from sqlalchemy import create_engine, inspect, func\n",
    "import datetime\n",
    "import json"
   ]
  },
  {
   "cell_type": "code",
   "execution_count": 2,
   "metadata": {},
   "outputs": [],
   "source": [
    "#Create engine using the sqlite database file\n",
    "engine = create_engine(\"sqlite:///./Data/COVID_Data.db\")"
   ]
  },
  {
   "cell_type": "code",
   "execution_count": 3,
   "metadata": {},
   "outputs": [
    {
     "data": {
      "text/plain": [
       "['usa_data', 'world_data']"
      ]
     },
     "execution_count": 3,
     "metadata": {},
     "output_type": "execute_result"
    }
   ],
   "source": [
    "#Verify database connected and pull table names\n",
    "verify = inspect(engine)\n",
    "verify.get_table_names()"
   ]
  },
  {
   "cell_type": "code",
   "execution_count": 4,
   "metadata": {},
   "outputs": [
    {
     "name": "stdout",
     "output_type": "stream",
     "text": [
      "iso_code TEXT\n",
      "continent TEXT\n",
      "location TEXT\n",
      "date DATE\n",
      "total_cases INTEGER\n",
      "new_cases INTEGER\n",
      "total_deaths INTEGER\n",
      "new_deaths INTEGER\n",
      "reproduction_rate DECIMAL\n",
      "icu_patients INTEGER\n",
      "hosp_patients INTEGER\n",
      "new_tests INTEGER\n",
      "total_tests INTEGER\n",
      "positive_rate DECIMAL\n",
      "tests_units INTEGER\n",
      "total_vaccinations INTEGER\n",
      "people_vaccinated INTEGER\n",
      "new_vaccinations INTEGER\n",
      "stringency_index DECIMAL\n",
      "population INTEGER\n",
      "population_density DECIMAL\n",
      "median_age DECIMAL\n",
      "gdp_per_capita DECIMAL\n"
     ]
    },
    {
     "data": {
      "text/plain": [
       "['iso_code',\n",
       " 'continent',\n",
       " 'location',\n",
       " 'date',\n",
       " 'total_cases',\n",
       " 'new_cases',\n",
       " 'total_deaths',\n",
       " 'new_deaths',\n",
       " 'reproduction_rate',\n",
       " 'icu_patients',\n",
       " 'hosp_patients',\n",
       " 'new_tests',\n",
       " 'total_tests',\n",
       " 'positive_rate',\n",
       " 'tests_units',\n",
       " 'total_vaccinations',\n",
       " 'people_vaccinated',\n",
       " 'new_vaccinations',\n",
       " 'stringency_index',\n",
       " 'population',\n",
       " 'population_density',\n",
       " 'median_age',\n",
       " 'gdp_per_capita']"
      ]
     },
     "execution_count": 4,
     "metadata": {},
     "output_type": "execute_result"
    }
   ],
   "source": [
    "#Verify column names for queries and future use\n",
    "columns = verify.get_columns('world_data')\n",
    "column_names = []\n",
    "for c in columns:\n",
    "    column_names.append(c['name'])\n",
    "    print(c['name'], c[\"type\"])\n",
    "column_names"
   ]
  }
 ],
 "metadata": {
  "interpreter": {
   "hash": "58b0c9df653c5aa3d8418f469a91e5bc94ed2faf267f0d571434f5abb20eb7c7"
  },
  "kernelspec": {
   "display_name": "Python 3.9.7 ('base')",
   "language": "python",
   "name": "python3"
  },
  "language_info": {
   "codemirror_mode": {
    "name": "ipython",
    "version": 3
   },
   "file_extension": ".py",
   "mimetype": "text/x-python",
   "name": "python",
   "nbconvert_exporter": "python",
   "pygments_lexer": "ipython3",
   "version": "3.9.7"
  },
  "orig_nbformat": 4
 },
 "nbformat": 4,
 "nbformat_minor": 2
}
