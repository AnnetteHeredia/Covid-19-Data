{
 "cells": [
  {
   "cell_type": "code",
   "execution_count": 1,
   "id": "d1205377",
   "metadata": {},
   "outputs": [],
   "source": [
    "import sqlalchemy\n",
    "from sqlalchemy.ext.automap import automap_base\n",
    "from sqlalchemy.orm import Session\n",
    "from sqlalchemy import create_engine, inspect, func\n",
    "import datetime\n",
    "import json"
   ]
  },
  {
   "cell_type": "code",
   "execution_count": 2,
   "id": "5d8ebbd6",
   "metadata": {},
   "outputs": [],
   "source": [
    "# Create engine using the `demographics.sqlite` database file\n",
    "engine = create_engine(\"sqlite:///./Data/COVID_Data.db\")"
   ]
  },
  {
   "cell_type": "code",
   "execution_count": 3,
   "id": "4666d0fe",
   "metadata": {},
   "outputs": [
    {
     "data": {
      "text/plain": [
       "['usa_data', 'world_data']"
      ]
     },
     "execution_count": 3,
     "metadata": {},
     "output_type": "execute_result"
    }
   ],
   "source": [
    "#Verify that the database is connected and get table names for reference\n",
    "inspector = inspect(engine)\n",
    "inspector.get_table_names()"
   ]
  },
  {
   "cell_type": "code",
   "execution_count": 4,
   "id": "564bbb82",
   "metadata": {},
   "outputs": [
    {
     "name": "stdout",
     "output_type": "stream",
     "text": [
      "submission_date DATE\n",
      "state TEXT\n",
      "tot_cases INTEGER\n",
      "conf_cases INTEGER\n",
      "prob_cases INTEGER\n",
      "new_case INTEGER\n",
      "pnew_case INTEGER\n",
      "tot_death INTEGER\n",
      "conf_death INTEGER\n",
      "prob_death INTEGER\n",
      "new_death INTEGER\n",
      "pnew_death INTEGER\n",
      "created_at DATETIME\n",
      "consent_cases TEXT\n",
      "consent_deaths TEXT\n"
     ]
    },
    {
     "data": {
      "text/plain": [
       "['submission_date',\n",
       " 'state',\n",
       " 'tot_cases',\n",
       " 'conf_cases',\n",
       " 'prob_cases',\n",
       " 'new_case',\n",
       " 'pnew_case',\n",
       " 'tot_death',\n",
       " 'conf_death',\n",
       " 'prob_death',\n",
       " 'new_death',\n",
       " 'pnew_death',\n",
       " 'created_at',\n",
       " 'consent_cases',\n",
       " 'consent_deaths']"
      ]
     },
     "execution_count": 4,
     "metadata": {},
     "output_type": "execute_result"
    }
   ],
   "source": [
    "#Verify column names for queries and future use\n",
    "columns = inspector.get_columns('usa_data')\n",
    "column_names = []\n",
    "for c in columns:\n",
    "    column_names.append(c['name'])\n",
    "    print(c['name'], c[\"type\"])\n",
    "column_names"
   ]
  },
  {
   "cell_type": "code",
   "execution_count": 5,
   "id": "8ed5ef7d",
   "metadata": {},
   "outputs": [
    {
     "name": "stdout",
     "output_type": "stream",
     "text": [
      "Start Date MM/DD/YYYY: 12/21/2020\n",
      "End Date MM/DD/YYYY: 12/23/2020\n",
      "State ID: AL\n",
      "<class 'str'>\n"
     ]
    }
   ],
   "source": [
    "#get the parameters to run test (not used in final product)\n",
    "states = [\"AL\",\"AK\",\"AR\", \"AS\",\"CA\",\"CO\",\"CT\",\"DE\",\"FL\",\"GA\",\"HI\",\"ID\",\"IL\",\"IN\",\"IA\",\"KS\",\"KY\",\"LA\",\"ME\",\"MD\",\"MA\",\"MI\",\"MN\",\"MS\",\"MO\",\"MT\",\"NE\",\"NV\",\"NH\",\"NJ\",\"NM\",\"NY\",\"NC\",\"ND\",\"OH\",\"OK\",\"OR\",\"PA\",\"RI\",\"SC\",\"SD\",\"TN\",\"TX\",\"UT\",\"VT\",\"VA\",\"WA\",\"WV\",\"WI\",\"WY\"]\n",
    "date_start = input(\"Start Date MM/DD/YYYY: \")\n",
    "date_start_dt = datetime.datetime.strptime(date_start, '%m/%d/%Y').date()\n",
    "date_end = input(\"End Date MM/DD/YYYY: \")\n",
    "date_end_dt = datetime.datetime.strptime(date_start, '%m/%d/%Y').date()\n",
    "state_select = input(\"State ID: \")\n",
    "print(type(date_start))"
   ]
  },
  {
   "cell_type": "code",
   "execution_count": 6,
   "id": "6ce820fc",
   "metadata": {},
   "outputs": [],
   "source": [
    "#create placeholders for data\n",
    "state_cases = []\n",
    "state_new = []\n",
    "state_tot_deaths = []\n",
    "state_new_death = []"
   ]
  },
  {
   "cell_type": "code",
   "execution_count": 7,
   "id": "371f378b",
   "metadata": {},
   "outputs": [
    {
     "data": {
      "text/plain": [
       "[326316, 860840, 334878, 330904, 863011]"
      ]
     },
     "execution_count": 7,
     "metadata": {},
     "output_type": "execute_result"
    }
   ],
   "source": [
    "#run queries for data\n",
    "#total cases by day\n",
    "state_cases_query = engine.execute(f\"SELECT tot_cases FROM usa_data WHERE state = '{state_select}' AND submission_date BETWEEN '{date_start}' AND '{date_end}'\").fetchall()\n",
    "for state in state_cases_query:\n",
    "    state_cases.append(state[0])\n",
    "state_cases"
   ]
  },
  {
   "cell_type": "code",
   "execution_count": 8,
   "id": "fa3aff57",
   "metadata": {},
   "outputs": [
    {
     "data": {
      "text/plain": [
       "[4918, 1630, 3974, 4588, 2171]"
      ]
     },
     "execution_count": 8,
     "metadata": {},
     "output_type": "execute_result"
    }
   ],
   "source": [
    "#new cases by day\n",
    "state_newcases_query = engine.execute(f\"SELECT new_case FROM usa_data WHERE state = '{state_select}' AND submission_date BETWEEN '{date_start}' AND '{date_end}'\").fetchall()\n",
    "for state in state_newcases_query:\n",
    "    state_new.append(state[0])\n",
    "state_new"
   ]
  },
  {
   "cell_type": "code",
   "execution_count": 9,
   "id": "581ec066",
   "metadata": {},
   "outputs": [
    {
     "data": {
      "text/plain": [
       "[6493, 16617, 6639, 6559, 16625]"
      ]
     },
     "execution_count": 9,
     "metadata": {},
     "output_type": "execute_result"
    }
   ],
   "source": [
    "#total deaths by day\n",
    "state_totdeaths_query = engine.execute(f\"SELECT tot_death FROM usa_data WHERE state = '{state_select}' AND submission_date BETWEEN '{date_start}' AND '{date_end}'\").fetchall()\n",
    "for state in state_totdeaths_query:\n",
    "    state_tot_deaths.append(state[0])\n",
    "state_tot_deaths"
   ]
  },
  {
   "cell_type": "code",
   "execution_count": 10,
   "id": "a0e1d99a",
   "metadata": {},
   "outputs": [
    {
     "data": {
      "text/plain": [
       "[67, 8, 80, 66, 8]"
      ]
     },
     "execution_count": 10,
     "metadata": {},
     "output_type": "execute_result"
    }
   ],
   "source": [
    "#new deaths by day\n",
    "state_newdeaths_query = engine.execute(f\"SELECT new_death FROM usa_data WHERE state = '{state_select}' AND submission_date BETWEEN '{date_start}' AND '{date_end}'\").fetchall()\n",
    "for state in state_newdeaths_query:\n",
    "    state_new_death.append(state[0])\n",
    "state_new_death"
   ]
  },
  {
   "cell_type": "code",
   "execution_count": 15,
   "id": "057f281b",
   "metadata": {},
   "outputs": [
    {
     "name": "stdout",
     "output_type": "stream",
     "text": [
      "2020-12-21\n",
      "2020-12-22\n",
      "2020-12-23\n",
      "2020-12-24\n",
      "2020-12-25\n"
     ]
    },
    {
     "data": {
      "text/plain": [
       "[{'date': '2020-12-21',\n",
       "  'total_cases': 326316,\n",
       "  'new_cases': 4918,\n",
       "  'total_deaths': 6493,\n",
       "  'new_deaths': 67},\n",
       " {'date': '2020-12-22',\n",
       "  'total_cases': 860840,\n",
       "  'new_cases': 1630,\n",
       "  'total_deaths': 16617,\n",
       "  'new_deaths': 8},\n",
       " {'date': '2020-12-23',\n",
       "  'total_cases': 334878,\n",
       "  'new_cases': 3974,\n",
       "  'total_deaths': 6639,\n",
       "  'new_deaths': 80},\n",
       " {'date': '2020-12-24',\n",
       "  'total_cases': 330904,\n",
       "  'new_cases': 4588,\n",
       "  'total_deaths': 6559,\n",
       "  'new_deaths': 66},\n",
       " {'date': '2020-12-25',\n",
       "  'total_cases': 863011,\n",
       "  'new_cases': 2171,\n",
       "  'total_deaths': 16625,\n",
       "  'new_deaths': 8}]"
      ]
     },
     "execution_count": 15,
     "metadata": {},
     "output_type": "execute_result"
    }
   ],
   "source": [
    "#take lists and create dictionary for JSON output\n",
    "i = 0\n",
    "curr_date = date_start_dt - datetime.timedelta(days = 1)\n",
    "output = []\n",
    "#match the day data into a dictionary\n",
    "while i < len(state_cases):\n",
    "    #get the date\n",
    "    curr_date = curr_date + datetime.timedelta(days = 1)\n",
    "    str_date  = str(curr_date)\n",
    "    print(curr_date)\n",
    "    #build the dictionary\n",
    "    data_dict = {\n",
    "        'date': str_date,\n",
    "        'total_cases': state_cases[i],\n",
    "        'new_cases': state_new[i],\n",
    "        'total_deaths': state_tot_deaths[i],\n",
    "        'new_deaths': state_new_death[i]\n",
    "    }\n",
    "    #append to file\n",
    "    output.append(data_dict)\n",
    "    i=i+1\n",
    "output"
   ]
  },
  {
   "cell_type": "code",
   "execution_count": 16,
   "id": "82df041e",
   "metadata": {},
   "outputs": [
    {
     "name": "stdout",
     "output_type": "stream",
     "text": [
      "[{\"date\": \"2020-12-21\", \"total_cases\": 326316, \"new_cases\": 4918, \"total_deaths\": 6493, \"new_deaths\": 67}, {\"date\": \"2020-12-22\", \"total_cases\": 860840, \"new_cases\": 1630, \"total_deaths\": 16617, \"new_deaths\": 8}, {\"date\": \"2020-12-23\", \"total_cases\": 334878, \"new_cases\": 3974, \"total_deaths\": 6639, \"new_deaths\": 80}, {\"date\": \"2020-12-24\", \"total_cases\": 330904, \"new_cases\": 4588, \"total_deaths\": 6559, \"new_deaths\": 66}, {\"date\": \"2020-12-25\", \"total_cases\": 863011, \"new_cases\": 2171, \"total_deaths\": 16625, \"new_deaths\": 8}]\n"
     ]
    }
   ],
   "source": [
    "#jsonify and send out\n",
    "json_string = json.dumps(output)\n",
    "print(json_string)"
   ]
  },
  {
   "cell_type": "code",
   "execution_count": null,
   "id": "d4f17240",
   "metadata": {},
   "outputs": [],
   "source": [
    "#send json to file"
   ]
  }
 ],
 "metadata": {
  "kernelspec": {
   "display_name": "Python 3 (ipykernel)",
   "language": "python",
   "name": "python3"
  },
  "language_info": {
   "codemirror_mode": {
    "name": "ipython",
    "version": 3
   },
   "file_extension": ".py",
   "mimetype": "text/x-python",
   "name": "python",
   "nbconvert_exporter": "python",
   "pygments_lexer": "ipython3",
   "version": "3.9.7"
  }
 },
 "nbformat": 4,
 "nbformat_minor": 5
}
